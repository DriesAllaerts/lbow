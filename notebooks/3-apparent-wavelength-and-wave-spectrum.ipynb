{
 "cells": [
  {
   "cell_type": "code",
   "execution_count": 1,
   "id": "e1f8bf25",
   "metadata": {},
   "outputs": [],
   "source": [
    "%load_ext autoreload\n",
    "%autoreload 2\n",
    "%matplotlib inline"
   ]
  },
  {
   "cell_type": "code",
   "execution_count": 2,
   "id": "78d54f80",
   "metadata": {},
   "outputs": [],
   "source": [
    "import numpy as np\n",
    "import matplotlib.pyplot as plt\n",
    "from pyslaw.lineartheory import LinearModel"
   ]
  },
  {
   "cell_type": "markdown",
   "id": "31abc370",
   "metadata": {},
   "source": [
    "# On the relation between the apparent wavelength and the wave spectrum"
   ]
  },
  {
   "cell_type": "markdown",
   "id": "eda566ea",
   "metadata": {},
   "source": [
    "TODO:\n",
    "- Add short description here (include author?)"
   ]
  },
  {
   "cell_type": "markdown",
   "id": "0b145b68",
   "metadata": {},
   "source": [
    "Flow parameters"
   ]
  },
  {
   "cell_type": "code",
   "execution_count": 3,
   "id": "df2010cb",
   "metadata": {},
   "outputs": [],
   "source": [
    "U = 10   # Wind speed [m/s]\n",
    "N = 0.01 # Brunt-Vaisala frequency [1/s]"
   ]
  },
  {
   "cell_type": "markdown",
   "id": "f67dd8bb",
   "metadata": {},
   "source": [
    "Hill shape"
   ]
  },
  {
   "cell_type": "code",
   "execution_count": 4,
   "id": "783ab571",
   "metadata": {},
   "outputs": [],
   "source": [
    "L = 1000.0   # Characteristic width of the hill [m]\n",
    "hmax = 100.0 # Height of the hill [m]\n",
    "\n",
    "# Shape function of the hill\n",
    "h = lambda x: hmax/(1+(x/L)**2)"
   ]
  },
  {
   "cell_type": "markdown",
   "id": "19c6bfb1",
   "metadata": {},
   "source": [
    "Numerical parameters"
   ]
  },
  {
   "cell_type": "code",
   "execution_count": 5,
   "id": "62154088",
   "metadata": {},
   "outputs": [],
   "source": [
    "Lx = 2000.0e3 # Length of the numerical domain [m]\n",
    "Nx = int(1e5) # Number of grid points"
   ]
  },
  {
   "cell_type": "markdown",
   "id": "cc4f0f16",
   "metadata": {},
   "source": [
    "## Solve flow problem"
   ]
  },
  {
   "cell_type": "markdown",
   "id": "172babfb",
   "metadata": {},
   "source": [
    "Create numerical grid"
   ]
  },
  {
   "cell_type": "code",
   "execution_count": 6,
   "id": "af522c53",
   "metadata": {},
   "outputs": [
    {
     "name": "stdout",
     "output_type": "stream",
     "text": [
      "Horizontal grid resolution is 20.0 m\n"
     ]
    }
   ],
   "source": [
    "xs,dx = np.linspace(-Lx/2,Lx/2,Nx,endpoint=False,retstep=True)\n",
    "print('Horizontal grid resolution is {} m'.format(dx))"
   ]
  },
  {
   "cell_type": "code",
   "execution_count": 7,
   "id": "06289720",
   "metadata": {},
   "outputs": [],
   "source": [
    "model1 = LinearModel(xs,h(xs),U,N)\n",
    "model2 = LinearModel(xs,h(xs),1.5*U,N)"
   ]
  },
  {
   "cell_type": "code",
   "execution_count": 8,
   "id": "e3626ff6",
   "metadata": {},
   "outputs": [],
   "source": [
    "w1 = model1.solve('w',6000)\n",
    "w2 = model2.solve('w',6000)"
   ]
  },
  {
   "cell_type": "code",
   "execution_count": 9,
   "id": "d7104678",
   "metadata": {},
   "outputs": [
    {
     "data": {
      "text/plain": [
       "<matplotlib.legend.Legend at 0x7fe3f96f8e50>"
      ]
     },
     "execution_count": 9,
     "metadata": {},
     "output_type": "execute_result"
    },
    {
     "data": {
      "image/png": "[encoded data removed]",
      "text/plain": [
       "<Figure size 432x288 with 1 Axes>"
      ]
     },
     "metadata": {
      "needs_background": "light"
     },
     "output_type": "display_data"
    }
   ],
   "source": [
    "plt.plot(xs,w1,'-b',label='U = {} m/s'.format(U))\n",
    "plt.plot(xs,w2,'-r',label='U = {} m/s'.format(1.5*U))\n",
    "plt.xlim([-20e3,20e3])\n",
    "plt.legend()"
   ]
  },
  {
   "cell_type": "code",
   "execution_count": 10,
   "id": "58505c8e",
   "metadata": {},
   "outputs": [
    {
     "name": "stdout",
     "output_type": "stream",
     "text": [
      "Effective wavelength (distance between crest and trough):\n",
      "at U = 10 m/s, lambda = 4.16 km\n",
      "at U = 15.0 m/s, lambda = 6.04 km\n"
     ]
    }
   ],
   "source": [
    "lambda_eff1 = np.abs(xs[np.argmin(w1)]-xs[np.argmax(w1)])\n",
    "lambda_eff2 = np.abs(xs[np.argmin(w2)]-xs[np.argmax(w2)])\n",
    "print('Effective wavelength (distance between crest and trough):')\n",
    "print('at U = {} m/s, lambda = {} km'.format(U,lambda_eff1/1e3))\n",
    "print('at U = {} m/s, lambda = {} km'.format(1.5*U,lambda_eff2/1e3))"
   ]
  },
  {
   "cell_type": "code",
   "execution_count": 11,
   "id": "051396fd",
   "metadata": {},
   "outputs": [
    {
     "name": "stdout",
     "output_type": "stream",
     "text": [
      "Cut-off wavenumber above which waves become evanescent:\n",
      "at U = 10 m/s, kc = 6.28 km\n",
      "at U = 15.0 m/s, kc 9.42 km\n"
     ]
    }
   ],
   "source": [
    "print('Cut-off wavenumber above which waves become evanescent:')\n",
    "print('at U = {} m/s, kc = {:.3} km'.format(U,2*np.pi*U/(N*1e3)))\n",
    "print('at U = {} m/s, kc {:.3} km'.format(1.5*U,2*np.pi*1.5*U/(N*1e3)))"
   ]
  },
  {
   "cell_type": "code",
   "execution_count": 12,
   "id": "35dcd17c",
   "metadata": {},
   "outputs": [
    {
     "data": {
      "text/plain": [
       "(0.0, 0.005)"
      ]
     },
     "execution_count": 12,
     "metadata": {},
     "output_type": "execute_result"
    },
    {
     "data": {
      "image/png": "[encoded data removed]",
      "text/plain": [
       "<Figure size 432x288 with 1 Axes>"
      ]
     },
     "metadata": {
      "needs_background": "light"
     },
     "output_type": "display_data"
    }
   ],
   "source": [
    "dx = np.unique(np.diff(xs))\n",
    "k = 2.0 * np.pi * np.fft.rfftfreq(xs.size,dx)\n",
    "plt.plot(k,np.abs(np.fft.rfft(w1)),'-b')\n",
    "plt.plot(k,np.abs(np.fft.rfft(w2)),'-r')\n",
    "plt.axvline(N/U,linestyle='--',color='b')\n",
    "plt.axvline(N/(1.5*U),linestyle='--',color='r')\n",
    "plt.xlim([0,0.005])"
   ]
  },
  {
   "cell_type": "markdown",
   "id": "9b032eb6",
   "metadata": {},
   "source": [
    "Remaining question: How does effective wave length relate to the wave spectrum? "
   ]
  },
  {
   "cell_type": "code",
   "execution_count": null,
   "id": "4c842fd4",
   "metadata": {},
   "outputs": [],
   "source": []
  }
 ],
 "metadata": {
  "kernelspec": {
   "display_name": "Python 3",
   "language": "python",
   "name": "python3"
  },
  "language_info": {
   "codemirror_mode": {
    "name": "ipython",
    "version": 3
   },
   "file_extension": ".py",
   "mimetype": "text/x-python",
   "name": "python",
   "nbconvert_exporter": "python",
   "pygments_lexer": "ipython3",
   "version": "3.8.8"
  }
 },
 "nbformat": 4,
 "nbformat_minor": 5
}
